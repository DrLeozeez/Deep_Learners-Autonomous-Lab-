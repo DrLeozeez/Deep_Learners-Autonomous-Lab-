{
 "cells": [
  {
   "cell_type": "code",
   "execution_count": 1,
   "id": "e59d99be",
   "metadata": {},
   "outputs": [
    {
     "name": "stdout",
     "output_type": "stream",
     "text": [
      "Output of Read function is \n",
      "Hochschule Hamm-Lippstadt\n",
      "Bachelor of Engineering\n",
      "Electronics engineering\n",
      "\n"
     ]
    }
   ],
   "source": [
    "file1 = open(\"untitled.txt\",\"r+\") \n",
    "  \n",
    "print(\"Output of Read function is \")\n",
    "print(file1.read())\n",
    "print()"
   ]
  },
  {
   "cell_type": "code",
   "execution_count": 2,
   "id": "af53ddd7",
   "metadata": {},
   "outputs": [
    {
     "name": "stdout",
     "output_type": "stream",
     "text": [
      "Output of Readlines after writing\n",
      "['Semester 7 \\n']\n",
      "\n"
     ]
    }
   ],
   "source": [
    "file1 = open(\"untitled.txt\",\"w\")#write mode\n",
    "file1.write(\"Semester 7 \\n\")\n",
    "file1.close()\n",
    "  \n",
    "file1 = open(\"untitled.txt\",\"r\")\n",
    "print(\"Output of Readlines after writing\") \n",
    "print(file1.readlines())\n",
    "print()\n",
    "file1.close()"
   ]
  },
  {
   "cell_type": "code",
   "execution_count": 3,
   "id": "5d86900b",
   "metadata": {},
   "outputs": [],
   "source": [
    "file1 = open(\"untitled.txt\",\"w\")#write mode\n",
    "file1.write(\"Hochschule Hamm-Lippstadt \\n Bachelor of Engineering \\n Electronics engineering \\n\")\n",
    "file1.close()"
   ]
  },
  {
   "cell_type": "code",
   "execution_count": 4,
   "id": "9ae58933",
   "metadata": {},
   "outputs": [
    {
     "name": "stdout",
     "output_type": "stream",
     "text": [
      "Output of Read function is \n",
      "Hochschule Hamm-Lippstadt \n",
      " Bachelor of Engineering \n",
      " Electronics engineering \n",
      "\n",
      "\n"
     ]
    }
   ],
   "source": [
    "file1 = open(\"untitled.txt\",\"r+\") \n",
    "  \n",
    "print(\"Output of Read function is \")\n",
    "print(file1.read())\n",
    "print()"
   ]
  },
  {
   "cell_type": "code",
   "execution_count": 5,
   "id": "5fde7841",
   "metadata": {},
   "outputs": [
    {
     "name": "stdout",
     "output_type": "stream",
     "text": [
      "Output of Readlines after appending\n",
      "['Hochschule Hamm-Lippstadt \\n', ' Bachelor of Engineering \\n', ' Electronics engineering \\n', 'Semester 7 \\n']\n",
      "\n"
     ]
    }
   ],
   "source": [
    "file1 = open(\"untitled.txt\",\"a\")#append mode\n",
    "file1.write(\"Semester 7 \\n\")\n",
    "file1.close()\n",
    "  \n",
    "file1 = open(\"untitled.txt\",\"r\")\n",
    "print(\"Output of Readlines after appending\") \n",
    "print(file1.readlines())\n",
    "print()\n",
    "file1.close()"
   ]
  },
  {
   "cell_type": "code",
   "execution_count": null,
   "id": "c4faf764",
   "metadata": {},
   "outputs": [],
   "source": []
  }
 ],
 "metadata": {
  "kernelspec": {
   "display_name": "Python 3 (ipykernel)",
   "language": "python",
   "name": "python3"
  },
  "language_info": {
   "codemirror_mode": {
    "name": "ipython",
    "version": 3
   },
   "file_extension": ".py",
   "mimetype": "text/x-python",
   "name": "python",
   "nbconvert_exporter": "python",
   "pygments_lexer": "ipython3",
   "version": "3.9.12"
  }
 },
 "nbformat": 4,
 "nbformat_minor": 5
}
