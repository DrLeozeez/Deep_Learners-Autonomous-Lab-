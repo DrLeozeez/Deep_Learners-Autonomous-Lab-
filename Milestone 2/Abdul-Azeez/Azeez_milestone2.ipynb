{
 "cells": [
  {
   "cell_type": "code",
   "execution_count": 16,
   "id": "51457f03-59c0-4034-9e4c-3288eba30f5b",
   "metadata": {},
   "outputs": [
    {
     "name": "stdout",
     "output_type": "stream",
     "text": [
      "azeez\n"
     ]
    }
   ],
   "source": [
    "name = 'azeez'\n",
    "print(name)\n"
   ]
  },
  {
   "cell_type": "code",
   "execution_count": 17,
   "id": "d4d1bfe2-02cf-48e4-aad4-606147d6b829",
   "metadata": {},
   "outputs": [
    {
     "name": "stdout",
     "output_type": "stream",
     "text": [
      "9\n"
     ]
    }
   ],
   "source": [
    "print(5+4)\n"
   ]
  },
  {
   "cell_type": "code",
   "execution_count": 18,
   "id": "3eabf394-f507-41de-9c23-9d310d4a873a",
   "metadata": {},
   "outputs": [
    {
     "name": "stdout",
     "output_type": "stream",
     "text": [
      "57.6650390625\n"
     ]
    }
   ],
   "source": [
    "x=(((1+2)*3)/4)\n",
    "print(x**5)\n"
   ]
  },
  {
   "cell_type": "code",
   "execution_count": 22,
   "id": "cdf3394d-fca1-4860-bb4a-db3903f4e53d",
   "metadata": {},
   "outputs": [
    {
     "name": "stdout",
     "output_type": "stream",
     "text": [
      "50\n"
     ]
    }
   ],
   "source": [
    "numbers = [5,9,7,9,5,4,3,6,2]\n",
    "sum = 0\n",
    "for m in numbers:\n",
    "    sum = sum+m\n",
    "print(sum)"
   ]
  },
  {
   "cell_type": "code",
   "execution_count": 2,
   "id": "87e41239-9aad-402f-af43-2b4f55499602",
   "metadata": {},
   "outputs": [
    {
     "name": "stdout",
     "output_type": "stream",
     "text": [
      "The output to read is\n",
      "Azeez is working with Deep Learning\n",
      "He also works on plant health monitoring\n",
      "He hopes to realise at least 80% of this project\n"
     ]
    }
   ],
   "source": [
    "Azeez = open(\"milestone2_txt.txt\", \"r+\") //reading a text file\n",
    "print(\"The output to read is\")\n",
    "print(Azeez.read())"
   ]
  },
  {
   "cell_type": "code",
   "execution_count": 5,
   "id": "33d6a08c",
   "metadata": {},
   "outputs": [],
   "source": [
    "import pandas as pd"
   ]
  },
  {
   "cell_type": "markdown",
   "id": "616a14e5",
   "metadata": {},
   "source": [
    "# AZEEZ"
   ]
  },
  {
   "cell_type": "code",
   "execution_count": 13,
   "id": "bf7f6452",
   "metadata": {},
   "outputs": [
    {
     "data": {
      "text/html": [
       "<div>\n",
       "<style scoped>\n",
       "    .dataframe tbody tr th:only-of-type {\n",
       "        vertical-align: middle;\n",
       "    }\n",
       "\n",
       "    .dataframe tbody tr th {\n",
       "        vertical-align: top;\n",
       "    }\n",
       "\n",
       "    .dataframe thead th {\n",
       "        text-align: right;\n",
       "    }\n",
       "</style>\n",
       "<table border=\"1\" class=\"dataframe\">\n",
       "  <thead>\n",
       "    <tr style=\"text-align: right;\">\n",
       "      <th></th>\n",
       "      <th>Unnamed: 0</th>\n",
       "      <th>Unnamed: 1</th>\n",
       "      <th>Unnamed: 2</th>\n",
       "      <th>Unnamed: 3</th>\n",
       "      <th>Unnamed: 4</th>\n",
       "      <th>Unnamed: 5</th>\n",
       "      <th>Unnamed: 6</th>\n",
       "    </tr>\n",
       "  </thead>\n",
       "  <tbody>\n",
       "    <tr>\n",
       "      <th>0</th>\n",
       "      <td>1.0</td>\n",
       "      <td>NaN</td>\n",
       "      <td>#Week</td>\n",
       "      <td>07.05.2022</td>\n",
       "      <td>21.05.2022</td>\n",
       "      <td>04.06.2022</td>\n",
       "      <td>18.06.2022</td>\n",
       "    </tr>\n",
       "    <tr>\n",
       "      <th>1</th>\n",
       "      <td>2.0</td>\n",
       "      <td>NaN</td>\n",
       "      <td>Task</td>\n",
       "      <td>Task 1</td>\n",
       "      <td>Task 2</td>\n",
       "      <td>Task 3</td>\n",
       "      <td>Task 4</td>\n",
       "    </tr>\n",
       "    <tr>\n",
       "      <th>2</th>\n",
       "      <td>3.0</td>\n",
       "      <td>NaN</td>\n",
       "      <td>NaN</td>\n",
       "      <td>Project: Weather monitoring system</td>\n",
       "      <td>Project: Weather monitoring system</td>\n",
       "      <td>Project: Weather monitoring system</td>\n",
       "      <td>Project: Weather monitoring system</td>\n",
       "    </tr>\n",
       "    <tr>\n",
       "      <th>3</th>\n",
       "      <td>4.0</td>\n",
       "      <td>Patrick Nonki</td>\n",
       "      <td>To-do</td>\n",
       "      <td>Research about the project topic, hardware</td>\n",
       "      <td>Research on connecting sensors to RasberryPi a...</td>\n",
       "      <td>False</td>\n",
       "      <td>- Refine and finalise the automated motor cont...</td>\n",
       "    </tr>\n",
       "    <tr>\n",
       "      <th>4</th>\n",
       "      <td>NaN</td>\n",
       "      <td>NaN</td>\n",
       "      <td>NaN</td>\n",
       "      <td>sensors and actuator selection.</td>\n",
       "      <td>Research on connecting DHT11 and Arduino to Ra...</td>\n",
       "      <td>sensor reading with python.</td>\n",
       "      <td>sensor reading with python.</td>\n",
       "    </tr>\n",
       "    <tr>\n",
       "      <th>5</th>\n",
       "      <td>NaN</td>\n",
       "      <td>NaN</td>\n",
       "      <td>NaN</td>\n",
       "      <td>NaN</td>\n",
       "      <td>Overall project planning.</td>\n",
       "      <td>NaN</td>\n",
       "      <td>- Work on realising the whole project.</td>\n",
       "    </tr>\n",
       "    <tr>\n",
       "      <th>6</th>\n",
       "      <td>NaN</td>\n",
       "      <td>NaN</td>\n",
       "      <td>NaN</td>\n",
       "      <td>NaN</td>\n",
       "      <td>NaN</td>\n",
       "      <td>NaN</td>\n",
       "      <td>- Work on documentation of the project and pre...</td>\n",
       "    </tr>\n",
       "    <tr>\n",
       "      <th>7</th>\n",
       "      <td>NaN</td>\n",
       "      <td>NaN</td>\n",
       "      <td>NaN</td>\n",
       "      <td>NaN</td>\n",
       "      <td>NaN</td>\n",
       "      <td>NaN</td>\n",
       "      <td>- UML Class Diagram, Sequence and Use-Case dia...</td>\n",
       "    </tr>\n",
       "    <tr>\n",
       "      <th>8</th>\n",
       "      <td>5.0</td>\n",
       "      <td>NaN</td>\n",
       "      <td>Status</td>\n",
       "      <td>Done</td>\n",
       "      <td>Done</td>\n",
       "      <td>Done</td>\n",
       "      <td>Done</td>\n",
       "    </tr>\n",
       "    <tr>\n",
       "      <th>9</th>\n",
       "      <td>6.0</td>\n",
       "      <td>Izuchukwu George Enekwa</td>\n",
       "      <td>Short summary</td>\n",
       "      <td>Research about the project topic, hardware</td>\n",
       "      <td>Research on connecting sensors to RasberryPi a...</td>\n",
       "      <td>Connecting DHT Sensor, coding and creating MQT...</td>\n",
       "      <td>- Work on documentation of the project and pre...</td>\n",
       "    </tr>\n",
       "  </tbody>\n",
       "</table>\n",
       "</div>"
      ],
      "text/plain": [
       "   Unnamed: 0               Unnamed: 1     Unnamed: 2  \\\n",
       "0         1.0                      NaN          #Week   \n",
       "1         2.0                      NaN           Task   \n",
       "2         3.0                      NaN            NaN   \n",
       "3         4.0            Patrick Nonki          To-do   \n",
       "4         NaN                      NaN            NaN   \n",
       "5         NaN                      NaN            NaN   \n",
       "6         NaN                      NaN            NaN   \n",
       "7         NaN                      NaN            NaN   \n",
       "8         5.0                      NaN         Status   \n",
       "9         6.0  Izuchukwu George Enekwa  Short summary   \n",
       "\n",
       "                                   Unnamed: 3  \\\n",
       "0                                  07.05.2022   \n",
       "1                                      Task 1   \n",
       "2          Project: Weather monitoring system   \n",
       "3  Research about the project topic, hardware   \n",
       "4             sensors and actuator selection.   \n",
       "5                                         NaN   \n",
       "6                                         NaN   \n",
       "7                                         NaN   \n",
       "8                                        Done   \n",
       "9  Research about the project topic, hardware   \n",
       "\n",
       "                                          Unnamed: 4  \\\n",
       "0                                         21.05.2022   \n",
       "1                                             Task 2   \n",
       "2                 Project: Weather monitoring system   \n",
       "3  Research on connecting sensors to RasberryPi a...   \n",
       "4  Research on connecting DHT11 and Arduino to Ra...   \n",
       "5                          Overall project planning.   \n",
       "6                                                NaN   \n",
       "7                                                NaN   \n",
       "8                                               Done   \n",
       "9  Research on connecting sensors to RasberryPi a...   \n",
       "\n",
       "                                          Unnamed: 5  \\\n",
       "0                                         04.06.2022   \n",
       "1                                             Task 3   \n",
       "2                 Project: Weather monitoring system   \n",
       "3                                              False   \n",
       "4                        sensor reading with python.   \n",
       "5                                                NaN   \n",
       "6                                                NaN   \n",
       "7                                                NaN   \n",
       "8                                               Done   \n",
       "9  Connecting DHT Sensor, coding and creating MQT...   \n",
       "\n",
       "                                          Unnamed: 6  \n",
       "0                                         18.06.2022  \n",
       "1                                             Task 4  \n",
       "2                 Project: Weather monitoring system  \n",
       "3  - Refine and finalise the automated motor cont...  \n",
       "4                        sensor reading with python.  \n",
       "5             - Work on realising the whole project.  \n",
       "6  - Work on documentation of the project and pre...  \n",
       "7  - UML Class Diagram, Sequence and Use-Case dia...  \n",
       "8                                               Done  \n",
       "9  - Work on documentation of the project and pre...  "
      ]
     },
     "execution_count": 13,
     "metadata": {},
     "output_type": "execute_result"
    }
   ],
   "source": [
    "azeez = pd.read_excel('TeamWurzburg_ToDO.xlsx')\n",
    "azeez.head(10)"
   ]
  },
  {
   "cell_type": "code",
   "execution_count": null,
   "id": "c93dbaa8",
   "metadata": {},
   "outputs": [],
   "source": []
  }
 ],
 "metadata": {
  "kernelspec": {
   "display_name": "Python 3 (ipykernel)",
   "language": "python",
   "name": "python3"
  },
  "language_info": {
   "codemirror_mode": {
    "name": "ipython",
    "version": 3
   },
   "file_extension": ".py",
   "mimetype": "text/x-python",
   "name": "python",
   "nbconvert_exporter": "python",
   "pygments_lexer": "ipython3",
   "version": "3.9.12"
  }
 },
 "nbformat": 4,
 "nbformat_minor": 5
}
